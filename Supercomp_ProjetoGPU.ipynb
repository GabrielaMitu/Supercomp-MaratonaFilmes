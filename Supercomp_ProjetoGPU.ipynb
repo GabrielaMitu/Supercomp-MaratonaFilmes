{
  "nbformat": 4,
  "nbformat_minor": 0,
  "metadata": {
    "colab": {
      "provenance": [],
      "gpuType": "T4"
    },
    "kernelspec": {
      "name": "python3",
      "display_name": "Python 3"
    },
    "language_info": {
      "name": "python"
    },
    "accelerator": "GPU"
  },
  "cells": [
    {
      "cell_type": "markdown",
      "source": [
        "## Paralelismo com GPU"
      ],
      "metadata": {
        "id": "b2rOh22oTNxk"
      }
    },
    {
      "cell_type": "code",
      "source": [
        "%%writefile maratona.cu\n",
        "\n",
        "#include <iostream>\n",
        "#include <thrust/host_vector.h>\n",
        "#include <thrust/device_vector.h>\n",
        "#include <thrust/sort.h>\n",
        "#include <thrust/copy.h>\n",
        "#include <thrust/iterator/zip_iterator.h>\n",
        "\n",
        "// STRUCT\n",
        "struct filme {\n",
        "    int inicio;\n",
        "    int fim;\n",
        "    int categoria;\n",
        "};\n",
        "\n",
        "// Struct para organizar os filmes em ordem crescente de fim\n",
        "struct FilmeCompare {\n",
        "    __host__ __device__\n",
        "    bool operator()(const filme& a, const filme& b) {\n",
        "        if (a.fim != b.fim) {\n",
        "            return a.fim < b.fim;\n",
        "        } else {\n",
        "            return a.inicio < b.inicio;\n",
        "        }\n",
        "    }\n",
        "};\n",
        "\n",
        "// Struct para evitar filmes que madrugam\n",
        "struct FilmeLimit {\n",
        "    __host__ __device__\n",
        "    bool operator()(const filme& a) {\n",
        "        int duracao = a.fim - a.inicio;\n",
        "        return duracao > 0;\n",
        "    }\n",
        "};\n",
        "\n",
        "int main() {\n",
        "    int n; // Número de filmes\n",
        "    int m; // Número de categorias totais\n",
        "    std::cin >> n >> m;\n",
        "\n",
        "    // ARMAZENAMENTO DE DADOS NA CPU\n",
        "    thrust::host_vector<filme> filmes_host(n); // armazena filmes do input\n",
        "    thrust::host_vector<int> max_filmes_host(m); // armazena numero maximo de filmes por categoria\n",
        "    thrust::host_vector<filme> melhorSelecao_host; // armazenará seleção ótima dos filmes\n",
        "    int duracaoMaxTotal = 0;\n",
        "\n",
        "    // INPUTS\n",
        "    for (int i = 0; i < m; i++) {\n",
        "        std::cin >> max_filmes_host[i];\n",
        "    }\n",
        "\n",
        "    for (int i = 0; i < n; i++) {\n",
        "        std::cin >> filmes_host[i].inicio >> filmes_host[i].fim >> filmes_host[i].categoria;\n",
        "    }\n",
        "\n",
        "    // Transferir dados para a GPU\n",
        "    thrust::device_vector<filme> filmes_dev = filmes_host;\n",
        "    thrust::device_vector<int> max_filmes_dev = max_filmes_host;\n",
        "    thrust::device_vector<filme> melhorSelecao_dev;\n",
        "    thrust::device_vector<int> duracaoTotal_dev(m, 0);\n",
        "\n",
        "    // Filtrar os filmes com duração maior que zero (não madrugam)\n",
        "    thrust::device_vector<filme> filmes_filtrados_dev(n);\n",
        "    auto filmes_filtrados_end = thrust::copy_if(filmes_dev.begin(), filmes_dev.end(), filmes_filtrados_dev.begin(), FilmeLimit());\n",
        "    thrust::device_vector<filme> filmes_filtrados(filmes_filtrados_dev.begin(), filmes_filtrados_end);\n",
        "\n",
        "    // Ordenar filmes por ordem crescente do fim\n",
        "    thrust::sort(filmes_filtrados.begin(), filmes_filtrados.end(), FilmeCompare());\n",
        "\n",
        "    // Criar matriz de programação dinâmica\n",
        "    thrust::device_vector<int> dp((n + 1) * (m + 1), 0);\n",
        "\n",
        "    // Preencher a matriz com as soluções para subproblemas menores\n",
        "    for (int i = 1; i <= n; i++) {\n",
        "        for (int j = 1; j <= m; j++) {\n",
        "            filme filmeAtual = filmes_dev[i - 1];\n",
        "            int max_count = 0; // filmes selecionados até o momento\n",
        "            for (int k = 0; k < i; k++) {\n",
        "                filme filmeAnterior = filmes_dev[k];\n",
        "                if (filmeAnterior.categoria == j && filmeAtual.inicio >= filmeAnterior.fim &&\n",
        "                    dp[(k * (m + 1)) + j - 1] + 1 <= max_filmes_dev[j - 1]) {\n",
        "                    max_count = max(max_count, dp[(k * (m + 1)) + j - 1] + 1);\n",
        "                } else {\n",
        "                    max_count = max(max_count, dp[(k * (m + 1)) + j]);\n",
        "                }\n",
        "            }\n",
        "            dp[(i * (m + 1)) + j] = max_count;\n",
        "        }\n",
        "    }\n",
        "\n",
        "    int duracaoTotal = 0;\n",
        "\n",
        "    // Reconstruir a seleção ótima\n",
        "    for (int i = n, j = m; i >= 1 && j >= 1; i--) {\n",
        "        if (dp[(i * (m + 1)) + j] == dp[((i - 1) * (m + 1)) + j]) {\n",
        "            continue;\n",
        "        }\n",
        "        filme filmeSelecionado = filmes_filtrados[i - 1];\n",
        "        melhorSelecao_dev.push_back(filmeSelecionado);\n",
        "        duracaoTotal += filmeSelecionado.fim - filmeSelecionado.inicio;\n",
        "        duracaoTotal_dev[filmeSelecionado.categoria - 1] += filmeSelecionado.fim - filmeSelecionado.inicio;\n",
        "        j--;\n",
        "\n",
        "        // Atualizar a maratona com maior tempo de tela\n",
        "        if (duracaoTotal > duracaoMaxTotal) {\n",
        "            duracaoMaxTotal = duracaoTotal;\n",
        "        }\n",
        "    }\n",
        "\n",
        "    // Transferir resultado de volta para a CPU\n",
        "    melhorSelecao_host = melhorSelecao_dev;\n",
        "    thrust::host_vector<int> duracaoTotal_host_final = duracaoTotal_dev;\n",
        "\n",
        "    // OUTPUTS\n",
        "    std::cout << \"Quantidade de filmes da maratona: \" << melhorSelecao_host.size() << std::endl;\n",
        "    std::cout << \"Duração total dos filmes selecionados: \" << duracaoMaxTotal << std::endl;\n",
        "    std::cout << \"----------\" << std::endl;\n",
        "    std::cout << \"Filmes da maratona: \" << std::endl;\n",
        "    for (const auto& filme : melhorSelecao_host) {\n",
        "        std::cout << filme.inicio << \" \" << filme.fim << \" \" << filme.categoria << std::endl;\n",
        "    }\n",
        "\n",
        "    return 0;\n",
        "}\n",
        "\n"
      ],
      "metadata": {
        "colab": {
          "base_uri": "https://localhost:8080/"
        },
        "id": "jM5BgY_CRw1j",
        "outputId": "9f527dac-f52f-4e45-9b84-125574ba30a6"
      },
      "execution_count": 1,
      "outputs": [
        {
          "output_type": "stream",
          "name": "stdout",
          "text": [
            "Writing maratona.cu\n"
          ]
        }
      ]
    },
    {
      "cell_type": "code",
      "source": [
        "!nvcc -arch=sm_70 -std=c++14 maratona.cu -o maratona"
      ],
      "metadata": {
        "id": "05pRcKToRxYO"
      },
      "execution_count": 2,
      "outputs": []
    },
    {
      "cell_type": "code",
      "source": [
        "!./maratona < \"input0.txt\""
      ],
      "metadata": {
        "colab": {
          "base_uri": "https://localhost:8080/"
        },
        "id": "7SQe02_JXMyA",
        "outputId": "751f577e-ad2e-4751-e688-e7ab71e3d3f0"
      },
      "execution_count": 3,
      "outputs": [
        {
          "output_type": "stream",
          "name": "stdout",
          "text": [
            "Quantidade de filmes da maratona: 2\n",
            "Duração total dos filmes selecionados: 5\n",
            "----------\n",
            "Filmes da maratona: \n",
            "20 23 3\n",
            "13 15 2\n"
          ]
        }
      ]
    },
    {
      "cell_type": "code",
      "source": [
        "!./maratona < \"input15.txt\""
      ],
      "metadata": {
        "id": "wTi-15AmR5na",
        "colab": {
          "base_uri": "https://localhost:8080/"
        },
        "outputId": "63a712e8-dbe5-4786-df33-ed24ba60ac6f"
      },
      "execution_count": null,
      "outputs": [
        {
          "output_type": "stream",
          "name": "stdout",
          "text": [
            "Quantidade de filmes da maratona: 2\n",
            "Duração total dos filmes selecionados: 7\n",
            "----------\n",
            "Filmes da maratona: \n",
            "10 14 1\n",
            "3 6 2\n"
          ]
        }
      ]
    },
    {
      "cell_type": "code",
      "source": [
        "!./maratona < \"input25.txt\""
      ],
      "metadata": {
        "colab": {
          "base_uri": "https://localhost:8080/"
        },
        "id": "qo8TY1MLXOx2",
        "outputId": "9fe581db-9f34-45f7-a951-5f574932bb75"
      },
      "execution_count": 4,
      "outputs": [
        {
          "output_type": "stream",
          "name": "stdout",
          "text": [
            "Quantidade de filmes da maratona: 3\n",
            "Duração total dos filmes selecionados: 8\n",
            "----------\n",
            "Filmes da maratona: \n",
            "8 11 1\n",
            "7 9 1\n",
            "4 7 3\n"
          ]
        }
      ]
    },
    {
      "cell_type": "code",
      "source": [
        "!./maratona < \"input35.txt\""
      ],
      "metadata": {
        "colab": {
          "base_uri": "https://localhost:8080/"
        },
        "id": "UDfxm6O4XSpy",
        "outputId": "8e6e68f2-ce72-42b8-f75f-833506e2bba9"
      },
      "execution_count": 5,
      "outputs": [
        {
          "output_type": "stream",
          "name": "stdout",
          "text": [
            "Quantidade de filmes da maratona: 2\n",
            "Duração total dos filmes selecionados: 7\n",
            "----------\n",
            "Filmes da maratona: \n",
            "2 6 1\n",
            "2 5 1\n"
          ]
        }
      ]
    },
    {
      "cell_type": "code",
      "source": [
        "!./maratona < \"input50.txt\""
      ],
      "metadata": {
        "colab": {
          "base_uri": "https://localhost:8080/"
        },
        "id": "pzE-z6MYXUgW",
        "outputId": "aa17db28-e52b-48a4-f87c-589cdb52c02a"
      },
      "execution_count": 6,
      "outputs": [
        {
          "output_type": "stream",
          "name": "stdout",
          "text": [
            "Quantidade de filmes da maratona: 1\n",
            "Duração total dos filmes selecionados: 2\n",
            "----------\n",
            "Filmes da maratona: \n",
            "2 4 3\n"
          ]
        }
      ]
    },
    {
      "cell_type": "code",
      "source": [
        "### EXAUSTIVA (para poder fazer a comparação com GPU)\n",
        "%%writefile exaustiva.cpp\n",
        "\n",
        "#include <iostream>\n",
        "#include <vector>\n",
        "#include <algorithm>\n",
        "#include <omp.h>\n",
        "\n",
        "using namespace std;\n",
        "\n",
        "\n",
        "// STRUCT DO FILME\n",
        "struct filme {\n",
        "    int inicio;\n",
        "    int fim;\n",
        "    int categoria;\n",
        "};\n",
        "\n",
        "// FUNCAO DE ORDENACAO CRESCENTE DO FIM DOS FILMES\n",
        "bool my_compare(filme a, filme b) {\n",
        "    if (a.fim != b.fim) {\n",
        "        return a.fim < b.fim;\n",
        "    } else {\n",
        "        return a.inicio < b.inicio;\n",
        "    }\n",
        "}\n",
        "\n",
        "// VERIFICAÇÃO SE DOIS FILMES TEM SOBREPOSIÇÃO DE HORÁRIOS\n",
        "bool hasOverlap(filme a, filme b) {\n",
        "    return !(a.fim <= b.inicio || b.fim <= a.inicio);\n",
        "}\n",
        "\n",
        "// FUNÇÃO RECURSIVA QUE FAZ A BUSCA EXAUSTIVA\n",
        "void buscaExaustiva(const vector<filme>& filmes, const vector<int>& max_filmes,\n",
        "                    vector<filme>& selecaoAtual, vector<int>& cntCat,\n",
        "                    int bitmask, int pos, int& maxSelecionados, int& duracaoMaxTotal,\n",
        "                    vector<filme>& melhorSelecao) {\n",
        "\n",
        "    // VERIFICA SE A BUSCA CHEGOU AO FIM\n",
        "    if (pos >= filmes.size()) {\n",
        "        int duracaoAtual = 0;\n",
        "        for (const auto& filme : selecaoAtual) {\n",
        "            duracaoAtual += (filme.fim - filme.inicio);\n",
        "        }\n",
        "        // VERIFICA SE O NÚMERO DE FILMES SELECIONADOS PARA CADA CATEGORIA NAO EXCEDE O LIMITE ESTABELECIDO POR MAX_FILMES\n",
        "        bool valido = true;\n",
        "        for (int i = 0; i < cntCat.size(); i++) {\n",
        "            if (cntCat[i] > max_filmes[i]) {\n",
        "                valido = false;\n",
        "                break;\n",
        "            }\n",
        "        }\n",
        "        // SE A SELEÇÃO ATUAL FOR VÁLIDA E A DURAÇÃO TOTAL FOR MAIOR QUE A DURAÇÃO MÁXIMA ATUAL, ATUALIZA A DURAÇÃO MÁXIMA E O NÚMERO DE FILMES SELECIONADOS\n",
        "        if (valido && duracaoAtual > duracaoMaxTotal) {\n",
        "            duracaoMaxTotal = duracaoAtual;\n",
        "            maxSelecionados = selecaoAtual.size();\n",
        "            melhorSelecao = selecaoAtual;\n",
        "        }\n",
        "\n",
        "        return;\n",
        "    }\n",
        "\n",
        "    // CONTINUA A BUSCA SEM SELECIONAR O FILME ATUAL\n",
        "    buscaExaustiva(filmes, max_filmes, selecaoAtual, cntCat, bitmask, pos + 1,\n",
        "                    maxSelecionados, duracaoMaxTotal, melhorSelecao);\n",
        "\n",
        "    // SE O FILME ATUAL NÃO TIVER SIDO SELECIONADO AINDA\n",
        "    if (!(bitmask & (1 << pos))) {\n",
        "        bool overlap = false;\n",
        "        for (const auto& filme : selecaoAtual) {\n",
        "            if (hasOverlap(filmes[pos], filme)) {\n",
        "                overlap = true;\n",
        "                break;\n",
        "            }\n",
        "        }\n",
        "        // E TAMBEM SE NAO TIVER SOBREPOSIÇÃO DE HORÁRIOS COM NENHUM DOS FILMES JÁ SELECIONADOS\n",
        "        if (!overlap) {\n",
        "            selecaoAtual.push_back(filmes[pos]);\n",
        "            cntCat[filmes[pos].categoria - 1]++;\n",
        "            buscaExaustiva(filmes, max_filmes, selecaoAtual, cntCat, bitmask | (1 << pos),\n",
        "                            pos + 1, maxSelecionados, duracaoMaxTotal, melhorSelecao);\n",
        "            selecaoAtual.pop_back(); // filme é removido da seleção atual\n",
        "            cntCat[filmes[pos].categoria - 1]--; // contador de filmes da categoria é decrementado\n",
        "        }\n",
        "    }\n",
        "}\n",
        "\n",
        "int main() {\n",
        "    int n; // Número de filmes\n",
        "    int m; // Número de categorias totais\n",
        "    cin >> n >> m;\n",
        "\n",
        "    vector<filme> filmes(n);\n",
        "    vector<int> max_filmes(m);\n",
        "    vector<filme> melhorSelecao;\n",
        "    vector<int> duracaoTotal(m, 0);\n",
        "\n",
        "    // INPUTS\n",
        "    for (int i = 0; i < m; i++) {\n",
        "        cin >> max_filmes[i];\n",
        "    }\n",
        "\n",
        "    for (int i = 0; i < n; i++) {\n",
        "        cin >> filmes[i].inicio >> filmes[i].fim >> filmes[i].categoria;\n",
        "    }\n",
        "\n",
        "    // USO DA FUNÇÃO DE ORDENAÇÃO\n",
        "    sort(filmes.begin(), filmes.end(), my_compare);\n",
        "\n",
        "    int maxSelecionados = 0;\n",
        "    int duracaoMaxTotal = 0;\n",
        "\n",
        "    vector<filme> selecaoAtual;\n",
        "    vector<int> cntCat(m, 0);\n",
        "\n",
        "    buscaExaustiva(filmes, max_filmes, selecaoAtual, cntCat, 0, 0,\n",
        "                    maxSelecionados, duracaoMaxTotal, melhorSelecao);\n",
        "\n",
        "    cout << \"Quantidade de filmes da maratona: \" << maxSelecionados << std::endl;\n",
        "    cout << \"Duração total dos filmes selecionados: \" << duracaoMaxTotal << std::endl;\n",
        "    cout << \"----------\" << std::endl;\n",
        "    cout << \"Filmes da maratona: \" << std::endl;\n",
        "    for (const auto& filme : melhorSelecao) {\n",
        "        cout << filme.inicio << \" \" << filme.fim << \" \" << filme.categoria << std::endl;\n",
        "    }\n",
        "\n",
        "    return 0;\n",
        "}\n"
      ],
      "metadata": {
        "colab": {
          "base_uri": "https://localhost:8080/"
        },
        "id": "l_kJkE-qY3vC",
        "outputId": "6ad0ac12-c34b-4d3d-ebaa-8371f5252578"
      },
      "execution_count": 8,
      "outputs": [
        {
          "output_type": "stream",
          "name": "stdout",
          "text": [
            "Overwriting exaustiva.cpp\n"
          ]
        }
      ]
    },
    {
      "cell_type": "code",
      "source": [
        "!g++ -o exaustiva exaustiva.cpp"
      ],
      "metadata": {
        "id": "nSAGRP6iZAKZ"
      },
      "execution_count": 9,
      "outputs": []
    },
    {
      "cell_type": "markdown",
      "source": [
        "## Análise de comparação da Busca Exaustiva com GPU\n",
        "\n",
        "#### Número de filmes X Tempo de execução"
      ],
      "metadata": {
        "id": "J1Tf8ZizTIoD"
      }
    },
    {
      "cell_type": "code",
      "source": [
        "# Import de Bibliotecas\n",
        "import numpy as np\n",
        "import matplotlib.pyplot as plt\n",
        "import subprocess\n",
        "import time\n",
        "\n",
        "# Função para cálculo do tempo de execução\n",
        "def roda_com_entrada(executavel, arquivo_in):\n",
        "  with open(arquivo_in) as f:\n",
        "    start = time.perf_counter()\n",
        "    proc = subprocess.run([executavel], input=f.read(), text=True, capture_output=True)\n",
        "    end = time.perf_counter()\n",
        "\n",
        "    stdout = proc.stdout\n",
        "    \n",
        "\n",
        "    tempo = end - start\n",
        "    return (stdout, end - start)"
      ],
      "metadata": {
        "id": "UOzU44YgT7K4"
      },
      "execution_count": 3,
      "outputs": []
    },
    {
      "cell_type": "code",
      "source": [
        "## Arquivos de input\n",
        "arqs = ['inputs/input0.txt', 'inputs/input15.txt', 'inputs/input25.txt', 'inputs/input35.txt', 'inputs/input50.txt']\n",
        "\n",
        "## ----- Busca Exaustiva -----\n",
        "\n",
        "temposExaustiva = [roda_com_entrada('./exaustiva', arq)[1] for arq in arqs]\n",
        "print(\"Tempos de execução da Busca Exaustiva em cada input: \")\n",
        "print(temposExaustiva)\n",
        "print(\"-\"*30)\n",
        "\n",
        "## ----- GPU -----------------\n",
        "\n",
        "temposGPU = [roda_com_entrada('./maratona', arq)[1] for arq in arqs]\n",
        "print(\"Tempos de execução da Paralelização com GPU em cada input: \")\n",
        "print(temposGPU)\n",
        "print(\"-\"*30)"
      ],
      "metadata": {
        "id": "VdXGZJOPMGiX",
        "colab": {
          "base_uri": "https://localhost:8080/"
        },
        "outputId": "c61c8bc2-c963-4c3b-d326-78285ea7a9f7"
      },
      "execution_count": 10,
      "outputs": [
        {
          "output_type": "stream",
          "name": "stdout",
          "text": [
            "Tempos de execução da Busca Exaustiva em cada input: \n",
            "[0.002753776000020025, 0.00274341499999764, 0.0077020470000093155, 0.17576613699998234, 20.671709215999954]\n",
            "------------------------------\n",
            "Tempos de execução da Paralelização com GPU em cada input: \n",
            "[0.2010951670000054, 0.11337031700003308, 0.12554924500000197, 0.15916810999999598, 0.2335079819999919]\n",
            "------------------------------\n"
          ]
        }
      ]
    },
    {
      "cell_type": "markdown",
      "source": [
        "#### Número de filmes X Tempo de tela"
      ],
      "metadata": {
        "id": "-1P1rFbxX3J1"
      }
    },
    {
      "cell_type": "code",
      "source": [
        "numFilmes = [10, 15, 25, 35, 50]\n",
        "\n",
        "telaExaustiva = [12, 12, 22, 22, 23]\n",
        "telaGPU = [5, 7, 8, 7, 2]\n",
        "\n",
        "plt.figure(figsize=(5,4))\n",
        "plt.plot(numFilmes, telaExaustiva, color='red', label = \"Busca Exaustiva\")\n",
        "plt.plot(numFilmes, telaGPU, color='blue', label = \"Paralelização por GPU\")\n",
        "plt.xlabel(\"Número de filmes\")\n",
        "plt.ylabel(\"Tempo de tela\")\n",
        "plt.title(\"Número de filmes X Tempo de tela\")\n",
        "plt.grid()\n",
        "plt.legend()\n",
        "plt.show()"
      ],
      "metadata": {
        "id": "g8JNStItTfoK",
        "colab": {
          "base_uri": "https://localhost:8080/",
          "height": 411
        },
        "outputId": "6173f72f-ee48-4b1d-e7c3-423011aae4db"
      },
      "execution_count": 11,
      "outputs": [
        {
          "output_type": "display_data",
          "data": {
            "text/plain": [
              "<Figure size 500x400 with 1 Axes>"
            ],
            "image/png": "[encoded data removed]"
          },
          "metadata": {}
        }
      ]
    }
  ]
}