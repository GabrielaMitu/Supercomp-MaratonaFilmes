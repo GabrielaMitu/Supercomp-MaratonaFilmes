{
 "cells": [
  {
   "cell_type": "markdown",
   "metadata": {},
   "source": [
    "# Relatório Parcial - Maratona de Filmes\n",
    "------------\n",
    "**Aluna:** Gabriela Mitu"
   ]
  },
  {
   "cell_type": "markdown",
   "metadata": {},
   "source": [
    "## Gerador"
   ]
  },
  {
   "cell_type": "markdown",
   "metadata": {},
   "source": [
    "Responsável por criar os inputs das heurísticas, foi apenas modificado em relação ao tempo de duração de filme que foi deixado desta vez em 2.0 e o desvio padrão permaneceu em 1.0. Esta modificação se deve em razão de que na realidade, é mais comum o lançamento de filmes com 2h de duração e uma variação próxima (desvio padrão) de 1h.\n",
    "\n",
    "Código do Gerador utilizado:\n",
    "\n",
    "```C++\n",
    "int main(int argc, char *argv[]) {\n",
    "    int n = atoi(argv[1]);\n",
    "    int m = atoi(argv[2]);\n",
    "\n",
    "    ofstream inputFile;\n",
    "    inputFile.open(\"input.txt\");\n",
    "    inputFile << n << \" \" << m << endl;\n",
    "\n",
    "    unsigned seed = chrono::system_clock::now().time_since_epoch().count();\n",
    "    default_random_engine generator (seed);\n",
    "\n",
    "    // Definindo distribuição normal com média de 3 e desvio padrão de 1\n",
    "    normal_distribution<double> distribution_dif(2, 1.0);\n",
    "\n",
    "    uniform_int_distribution<int> distribution_hr(0, 23);\n",
    "    uniform_int_distribution<int> distribution_cat(1, m);\n",
    "\n",
    "    vector<int> maxFilmes(m); // Vetor para armazenar o máximo de filmes por categoria\n",
    "    for (int i = 0; i < m; i++) {\n",
    "        maxFilmes[i] = distribution_cat(generator); // Gerando o máximo de filmes para cada categoria\n",
    "        inputFile << maxFilmes[i] << \" \"; // Escrevendo o valor no arquivo de entrada\n",
    "    }\n",
    "    inputFile << endl;\n",
    "\n",
    "    for (int i = 0; i < n; i++) {\n",
    "        int hora_inicio = distribution_hr(generator);\n",
    "        double dif_media = distribution_dif(generator);\n",
    "        int hora_fim = ((int)hora_inicio + (int)round(dif_media)) % 24;\n",
    "        int categoria = distribution_cat(generator);\n",
    "\n",
    "        inputFile << hora_inicio << \" \" << hora_fim << \" \" << categoria << endl;\n",
    "    }\n",
    "\n",
    "\n",
    "    inputFile.close();\n",
    "    return 0;\n",
    "}"
   ]
  },
  {
   "cell_type": "markdown",
   "metadata": {},
   "source": [
    "## Heurística Gulosa"
   ]
  },
  {
   "cell_type": "markdown",
   "metadata": {},
   "source": [
    "Para fazer considerações sobre o profiling (valgrind) do código-fonte, foi utilizado o input.txt (considerando 100 filmes e 5 categorias diferentes).\n",
    "\n",
    "Os seguintes comandos foram realizados:\n",
    "\n",
    "> g++ -Wall -O3 -g heuristicaGulosa.cpp -o gulosa\n",
    "\n",
    "> valgrind --tool=callgrind ./gulosa < input.txt\n",
    "\n",
    "> callgrind_annotate callgrind.out.7983 heuristicaGulosa.cpp > gulosaValgrindInput.txt\n",
    "\n",
    "**Obs.:** para não perder cada uma das análises, foi colocado o output dentro de gulosaValgrindInput.txt\n"
   ]
  },
  {
   "cell_type": "markdown",
   "metadata": {},
   "source": [
    "------------\n",
    "## Heurística Aleatória\n",
    "\n"
   ]
  },
  {
   "cell_type": "markdown",
   "metadata": {},
   "source": [
    "Para fazer considerações sobre o profiling (valgrind) do código-fonte, foi utilizado também o input.txt (considerando 100 filmes e 5 categorias diferentes).\n",
    "\n",
    "Os seguintes comandos foram realizados:\n",
    "\n",
    "> g++ -Wall -O3 -g aleatorizacao.cpp -o aleatorizacao\n",
    "\n",
    "> valgrind --tool=callgrind ./aleatorizacao < input.txt\n",
    "\n",
    "> callgrind_annotate callgrind.out.6967 aleatorizacao.cpp > aleatorizacaoValgrindInput.txt\n",
    "\n",
    "**Obs.:** para não perder cada uma das análises, foi colocado o output dentro de aleatorizacaoValgrindInput.txt\n"
   ]
  }
 ],
 "metadata": {
  "language_info": {
   "name": "python"
  },
  "orig_nbformat": 4
 },
 "nbformat": 4,
 "nbformat_minor": 2
}
